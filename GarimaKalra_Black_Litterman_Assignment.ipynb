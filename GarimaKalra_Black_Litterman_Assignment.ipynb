{
  "cells": [
    {
      "cell_type": "markdown",
      "source": [
        "\n",
        "#**BLACK LITTERMAN ASSIGNMENT**"
      ],
      "metadata": {
        "id": "BTDG6kPikEwu"
      }
    },
    {
      "cell_type": "markdown",
      "metadata": {
        "id": "T6oX6LdTnvFF"
      },
      "source": [
        "# Installation\n"
      ]
    },
    {
      "cell_type": "code",
      "execution_count": null,
      "metadata": {
        "id": "cKUdfR-fnuVx",
        "outputId": "dda49ef4-7f94-4a2c-8ec2-a5f0d7696144",
        "colab": {
          "base_uri": "https://localhost:8080/"
        }
      },
      "outputs": [
        {
          "output_type": "stream",
          "name": "stdout",
          "text": [
            "Requirement already satisfied: yfinance in /usr/local/lib/python3.10/dist-packages (0.2.43)\n",
            "Requirement already satisfied: pandas>=1.3.0 in /usr/local/lib/python3.10/dist-packages (from yfinance) (2.1.4)\n",
            "Requirement already satisfied: numpy>=1.16.5 in /usr/local/lib/python3.10/dist-packages (from yfinance) (1.26.4)\n",
            "Requirement already satisfied: requests>=2.31 in /usr/local/lib/python3.10/dist-packages (from yfinance) (2.32.3)\n",
            "Requirement already satisfied: multitasking>=0.0.7 in /usr/local/lib/python3.10/dist-packages (from yfinance) (0.0.11)\n",
            "Requirement already satisfied: lxml>=4.9.1 in /usr/local/lib/python3.10/dist-packages (from yfinance) (4.9.4)\n",
            "Requirement already satisfied: platformdirs>=2.0.0 in /usr/local/lib/python3.10/dist-packages (from yfinance) (4.3.6)\n",
            "Requirement already satisfied: pytz>=2022.5 in /usr/local/lib/python3.10/dist-packages (from yfinance) (2024.2)\n",
            "Requirement already satisfied: frozendict>=2.3.4 in /usr/local/lib/python3.10/dist-packages (from yfinance) (2.4.4)\n",
            "Requirement already satisfied: peewee>=3.16.2 in /usr/local/lib/python3.10/dist-packages (from yfinance) (3.17.6)\n",
            "Requirement already satisfied: beautifulsoup4>=4.11.1 in /usr/local/lib/python3.10/dist-packages (from yfinance) (4.12.3)\n",
            "Requirement already satisfied: html5lib>=1.1 in /usr/local/lib/python3.10/dist-packages (from yfinance) (1.1)\n",
            "Requirement already satisfied: soupsieve>1.2 in /usr/local/lib/python3.10/dist-packages (from beautifulsoup4>=4.11.1->yfinance) (2.6)\n",
            "Requirement already satisfied: six>=1.9 in /usr/local/lib/python3.10/dist-packages (from html5lib>=1.1->yfinance) (1.16.0)\n",
            "Requirement already satisfied: webencodings in /usr/local/lib/python3.10/dist-packages (from html5lib>=1.1->yfinance) (0.5.1)\n",
            "Requirement already satisfied: python-dateutil>=2.8.2 in /usr/local/lib/python3.10/dist-packages (from pandas>=1.3.0->yfinance) (2.8.2)\n",
            "Requirement already satisfied: tzdata>=2022.1 in /usr/local/lib/python3.10/dist-packages (from pandas>=1.3.0->yfinance) (2024.1)\n",
            "Requirement already satisfied: charset-normalizer<4,>=2 in /usr/local/lib/python3.10/dist-packages (from requests>=2.31->yfinance) (3.3.2)\n",
            "Requirement already satisfied: idna<4,>=2.5 in /usr/local/lib/python3.10/dist-packages (from requests>=2.31->yfinance) (3.10)\n",
            "Requirement already satisfied: urllib3<3,>=1.21.1 in /usr/local/lib/python3.10/dist-packages (from requests>=2.31->yfinance) (2.2.3)\n",
            "Requirement already satisfied: certifi>=2017.4.17 in /usr/local/lib/python3.10/dist-packages (from requests>=2.31->yfinance) (2024.8.30)\n"
          ]
        }
      ],
      "source": [
        "!pip install yfinance"
      ]
    },
    {
      "cell_type": "markdown",
      "metadata": {
        "id": "S-Va-dDln7XE"
      },
      "source": [
        "# Importing Packages"
      ]
    },
    {
      "cell_type": "code",
      "execution_count": null,
      "metadata": {
        "id": "tXyyhq-Wnzrg"
      },
      "outputs": [],
      "source": [
        "import numpy as np\n",
        "import pandas as pd\n",
        "import yfinance as yf\n",
        "from datetime import datetime, timedelta"
      ]
    },
    {
      "cell_type": "markdown",
      "metadata": {
        "id": "qRf2JxPaoGaS"
      },
      "source": [
        "# Getting Stock Data"
      ]
    },
    {
      "cell_type": "code",
      "execution_count": null,
      "metadata": {
        "id": "PFvjVhi4oCgK",
        "outputId": "ee4f0ec7-6c4f-487c-b438-b801cfb4c158",
        "colab": {
          "base_uri": "https://localhost:8080/"
        }
      },
      "outputs": [
        {
          "output_type": "stream",
          "name": "stderr",
          "text": [
            "[*********************100%***********************]  5 of 5 completed\n",
            "[*********************100%***********************]  1 of 1 completed\n",
            "[*********************100%***********************]  1 of 1 completed\n"
          ]
        }
      ],
      "source": [
        "# Define stock tickers, T-bill, and market index tickers\n",
        "stock_tickers = ['TSLA', 'NFLX', 'NVDA', 'AMD', 'MSFT']\n",
        "tbill_ticker = '^TNX'  # Risk-free rate\n",
        "market_ticker = '^GSPC'  # S&P 500 (market benchmark)\n",
        "\n",
        "# Set date range for one year\n",
        "end_date = datetime.now()\n",
        "start_date = end_date - timedelta(days=365)\n",
        "\n",
        "# Download adjusted close prices for stocks, T-bill, and market index\n",
        "portfolio = yf.download(stock_tickers, start=start_date, end=end_date)['Close']\n",
        "Tbill = yf.download(tbill_ticker, start=start_date, end=end_date)[['Close']].rename(columns={'Close': 'tbill'})\n",
        "market = yf.download(market_ticker, start=start_date, end=end_date)[['Close']].rename(columns={'Close': 'gspc'})"
      ]
    },
    {
      "cell_type": "markdown",
      "metadata": {
        "id": "a59D7kuErYtK"
      },
      "source": [
        "# Risk Free Interest Rates"
      ]
    },
    {
      "cell_type": "code",
      "execution_count": null,
      "metadata": {
        "id": "UeUfdFtuou2r",
        "outputId": "4c506ea0-6f25-47a6-939c-ff20a4206645",
        "colab": {
          "base_uri": "https://localhost:8080/"
        }
      },
      "outputs": [
        {
          "output_type": "stream",
          "name": "stdout",
          "text": [
            "Excess Returns:\n",
            " Ticker           amd      msft      nflx      nvda      tsla\n",
            "Date                                                        \n",
            "2023-09-29  0.005805  0.011948  0.008516  0.014736  0.020806\n",
            "2023-10-02 -0.019678 -0.004894 -0.016824  0.005441 -0.018539\n",
            "2023-10-03 -0.056301 -0.051545 -0.034824 -0.053659 -0.045562\n",
            "2023-10-04  0.053821  0.031726  0.014351  0.025994  0.073296\n",
            "2023-10-05 -0.007345  0.005056 -0.007634  0.018492 -0.000449\n",
            "Excess Market Return:\n",
            "                 gspc\n",
            "Date                \n",
            "2023-09-29  0.002511\n",
            "2023-10-02 -0.023975\n",
            "2023-10-03 -0.039155\n",
            "2023-10-04  0.022062\n",
            "2023-10-05  0.002497\n"
          ]
        }
      ],
      "source": [
        "# Remove timezone from indices\n",
        "portfolio.index = portfolio.index.tz_localize(None)\n",
        "Tbill.index = Tbill.index.tz_localize(None)\n",
        "market.index = market.index.tz_localize(None)\n",
        "\n",
        "# Convert column names to lowercase\n",
        "portfolio.columns = portfolio.columns.str.lower()\n",
        "\n",
        "# Check if DataFrames are not empty\n",
        "if not portfolio.empty and not Tbill.empty and not market.empty:\n",
        "    # Calculate daily returns\n",
        "    returns = portfolio.pct_change()\n",
        "    tbill_rate = Tbill.pct_change()\n",
        "    market_returns = market.pct_change()\n",
        "\n",
        "    # Align returns with T-bill rate\n",
        "    returns, tbill_rate = returns.align(tbill_rate, join='inner', axis=0)\n",
        "    market_returns, tbill_rate = market_returns.align(tbill_rate, join='inner', axis=0)\n",
        "\n",
        "    # Subtract T-bill rate from stock returns (excess returns)\n",
        "    for ticker in ['tsla', 'nflx', 'nvda', 'amd', 'msft']:\n",
        "        returns[ticker] -= tbill_rate[\"tbill\"]\n",
        "\n",
        "    # Calculate excess market return\n",
        "    excess_market_return = pd.DataFrame()\n",
        "    excess_market_return['gspc'] = market_returns['gspc'] - tbill_rate[\"tbill\"]\n",
        "\n",
        "    # Drop rows with missing values\n",
        "    returns.dropna(inplace=True)\n",
        "    excess_market_return.dropna(inplace=True)\n",
        "\n",
        "    # Print results\n",
        "    print(\"Excess Returns:\\n\", returns.head())\n",
        "    print(\"Excess Market Return:\\n\", excess_market_return.head())\n",
        "else:\n",
        "    print(\"One or more DataFrames are empty. Check data retrieval.\")\n"
      ]
    },
    {
      "cell_type": "markdown",
      "metadata": {
        "id": "76F3JUJ3rrmO"
      },
      "source": [
        "# Price of Risk\n",
        "\n",
        "\\begin{align}\n",
        "  A = \\frac{E(r_m) - r_f}{σ_m^2}\n",
        "\\end{align}\n",
        "\n",
        "Explanation of Terms:\n",
        "\n",
        "A: This is the price of risk or the risk aversion coefficient. It measures how much additional return an investor requires for taking on an additional unit of risk.\n",
        "\n",
        "E(rm\n",
        "​\n",
        " ): This is the expected return of the market portfolio. It represents the average return that an investor expects to earn from the market as a whole.\n",
        "\n",
        "𝑟\n",
        "𝑓\n",
        "​\n",
        " : This is the risk-free rate, which is the return on a theoretically riskless investment, such as a government bond.\n",
        "\n",
        "𝜎\n",
        "𝑚\n",
        "2\n",
        " : This is the variance of the returns of the market portfolio, which represents the risk or volatility associated with the market's return."
      ]
    },
    {
      "cell_type": "code",
      "execution_count": null,
      "metadata": {
        "id": "uMGKIL4zrufN",
        "outputId": "dd3de29e-bb0d-4282-81be-7636cd188738",
        "colab": {
          "base_uri": "https://localhost:8080/"
        }
      },
      "outputs": [
        {
          "output_type": "execute_result",
          "data": {
            "text/plain": [
              "29.589415618936524"
            ]
          },
          "metadata": {},
          "execution_count": 5
        }
      ],
      "source": [
        "# Calculate the average excess return of the market\n",
        "average_market_excess_return = np.mean(excess_market_return['gspc']) # YOUR CODE HERE#\n",
        "\n",
        "# Calculate the variance of the market returns\n",
        "market_return_variance = np.var(market_returns['gspc'])# YOUR CODE HERE#\n",
        "\n",
        "# Compute the price of risk (A)\n",
        "market_price_of_risk = average_market_excess_return/market_return_variance # YOUR CODE HERE#\n",
        "\n",
        "# Extract the first value of A\n",
        "A = market_price_of_risk\n",
        "A"
      ]
    },
    {
      "cell_type": "markdown",
      "metadata": {
        "id": "GPrtvq2_v582"
      },
      "source": [
        "### Variance-Covariance Matrix\n",
        "\n",
        "A **Variance-Covariance Matrix** is a square matrix where:\n",
        "\n",
        "- Diagonal elements represent the variances of individual assets.\n",
        "- Off-diagonal elements represent the covariances between pairs of assets.\n",
        "\n",
        "For a portfolio with \\(n\\) assets, the variance-covariance matrix \\( \\Sigma \\) can be written as:\n",
        "\n",
        "\\\n",
        "\n",
        "\\begin{bmatrix}\n",
        "\\sigma_1^2 & \\text{Cov}(r_1, r_2) & \\cdots & \\text{Cov}(r_1, r_n) \\\\\n",
        "\\text{Cov}(r_2, r_1) & \\sigma_2^2 & \\cdots & \\text{Cov}(r_2, r_n) \\\\\n",
        "\\vdots & \\vdots & \\ddots & \\vdots \\\\\n",
        "\\text{Cov}(r_n, r_1) & \\text{Cov}(r_n, r_2) & \\cdots & \\sigma_n^2 \\\\\n",
        "\\end{bmatrix}\n",
        "\n",
        "\n",
        "Where:\n",
        "\n",
        "- \\( \\sigma_i^2 \\) represents the variance of asset \\(i\\).\n",
        "- \\( \\text{Cov}(r_i, r_j) \\) represents the covariance between the returns of asset \\(i\\) and asset \\(j\\).\n"
      ]
    },
    {
      "cell_type": "code",
      "execution_count": null,
      "metadata": {
        "id": "1-RcZuDxrw44",
        "outputId": "10d035bd-1536-48af-85ca-93c2f0aec1d4",
        "colab": {
          "base_uri": "https://localhost:8080/",
          "height": 231
        }
      },
      "outputs": [
        {
          "output_type": "execute_result",
          "data": {
            "text/plain": [
              "Ticker       amd      msft      nflx      nvda      tsla\n",
              "Ticker                                                  \n",
              "amd     0.001171  0.000392  0.000450  0.000818  0.000623\n",
              "msft    0.000392  0.000379  0.000324  0.000411  0.000404\n",
              "nflx    0.000450  0.000324  0.000620  0.000481  0.000335\n",
              "nvda    0.000818  0.000411  0.000481  0.001287  0.000602\n",
              "tsla    0.000623  0.000404  0.000335  0.000602  0.001535"
            ],
            "text/html": [
              "\n",
              "  <div id=\"df-0f96a326-d3a7-4c0e-8ae6-4115fa8ce3d2\" class=\"colab-df-container\">\n",
              "    <div>\n",
              "<style scoped>\n",
              "    .dataframe tbody tr th:only-of-type {\n",
              "        vertical-align: middle;\n",
              "    }\n",
              "\n",
              "    .dataframe tbody tr th {\n",
              "        vertical-align: top;\n",
              "    }\n",
              "\n",
              "    .dataframe thead th {\n",
              "        text-align: right;\n",
              "    }\n",
              "</style>\n",
              "<table border=\"1\" class=\"dataframe\">\n",
              "  <thead>\n",
              "    <tr style=\"text-align: right;\">\n",
              "      <th>Ticker</th>\n",
              "      <th>amd</th>\n",
              "      <th>msft</th>\n",
              "      <th>nflx</th>\n",
              "      <th>nvda</th>\n",
              "      <th>tsla</th>\n",
              "    </tr>\n",
              "    <tr>\n",
              "      <th>Ticker</th>\n",
              "      <th></th>\n",
              "      <th></th>\n",
              "      <th></th>\n",
              "      <th></th>\n",
              "      <th></th>\n",
              "    </tr>\n",
              "  </thead>\n",
              "  <tbody>\n",
              "    <tr>\n",
              "      <th>amd</th>\n",
              "      <td>0.001171</td>\n",
              "      <td>0.000392</td>\n",
              "      <td>0.000450</td>\n",
              "      <td>0.000818</td>\n",
              "      <td>0.000623</td>\n",
              "    </tr>\n",
              "    <tr>\n",
              "      <th>msft</th>\n",
              "      <td>0.000392</td>\n",
              "      <td>0.000379</td>\n",
              "      <td>0.000324</td>\n",
              "      <td>0.000411</td>\n",
              "      <td>0.000404</td>\n",
              "    </tr>\n",
              "    <tr>\n",
              "      <th>nflx</th>\n",
              "      <td>0.000450</td>\n",
              "      <td>0.000324</td>\n",
              "      <td>0.000620</td>\n",
              "      <td>0.000481</td>\n",
              "      <td>0.000335</td>\n",
              "    </tr>\n",
              "    <tr>\n",
              "      <th>nvda</th>\n",
              "      <td>0.000818</td>\n",
              "      <td>0.000411</td>\n",
              "      <td>0.000481</td>\n",
              "      <td>0.001287</td>\n",
              "      <td>0.000602</td>\n",
              "    </tr>\n",
              "    <tr>\n",
              "      <th>tsla</th>\n",
              "      <td>0.000623</td>\n",
              "      <td>0.000404</td>\n",
              "      <td>0.000335</td>\n",
              "      <td>0.000602</td>\n",
              "      <td>0.001535</td>\n",
              "    </tr>\n",
              "  </tbody>\n",
              "</table>\n",
              "</div>\n",
              "    <div class=\"colab-df-buttons\">\n",
              "\n",
              "  <div class=\"colab-df-container\">\n",
              "    <button class=\"colab-df-convert\" onclick=\"convertToInteractive('df-0f96a326-d3a7-4c0e-8ae6-4115fa8ce3d2')\"\n",
              "            title=\"Convert this dataframe to an interactive table.\"\n",
              "            style=\"display:none;\">\n",
              "\n",
              "  <svg xmlns=\"http://www.w3.org/2000/svg\" height=\"24px\" viewBox=\"0 -960 960 960\">\n",
              "    <path d=\"M120-120v-720h720v720H120Zm60-500h600v-160H180v160Zm220 220h160v-160H400v160Zm0 220h160v-160H400v160ZM180-400h160v-160H180v160Zm440 0h160v-160H620v160ZM180-180h160v-160H180v160Zm440 0h160v-160H620v160Z\"/>\n",
              "  </svg>\n",
              "    </button>\n",
              "\n",
              "  <style>\n",
              "    .colab-df-container {\n",
              "      display:flex;\n",
              "      gap: 12px;\n",
              "    }\n",
              "\n",
              "    .colab-df-convert {\n",
              "      background-color: #E8F0FE;\n",
              "      border: none;\n",
              "      border-radius: 50%;\n",
              "      cursor: pointer;\n",
              "      display: none;\n",
              "      fill: #1967D2;\n",
              "      height: 32px;\n",
              "      padding: 0 0 0 0;\n",
              "      width: 32px;\n",
              "    }\n",
              "\n",
              "    .colab-df-convert:hover {\n",
              "      background-color: #E2EBFA;\n",
              "      box-shadow: 0px 1px 2px rgba(60, 64, 67, 0.3), 0px 1px 3px 1px rgba(60, 64, 67, 0.15);\n",
              "      fill: #174EA6;\n",
              "    }\n",
              "\n",
              "    .colab-df-buttons div {\n",
              "      margin-bottom: 4px;\n",
              "    }\n",
              "\n",
              "    [theme=dark] .colab-df-convert {\n",
              "      background-color: #3B4455;\n",
              "      fill: #D2E3FC;\n",
              "    }\n",
              "\n",
              "    [theme=dark] .colab-df-convert:hover {\n",
              "      background-color: #434B5C;\n",
              "      box-shadow: 0px 1px 3px 1px rgba(0, 0, 0, 0.15);\n",
              "      filter: drop-shadow(0px 1px 2px rgba(0, 0, 0, 0.3));\n",
              "      fill: #FFFFFF;\n",
              "    }\n",
              "  </style>\n",
              "\n",
              "    <script>\n",
              "      const buttonEl =\n",
              "        document.querySelector('#df-0f96a326-d3a7-4c0e-8ae6-4115fa8ce3d2 button.colab-df-convert');\n",
              "      buttonEl.style.display =\n",
              "        google.colab.kernel.accessAllowed ? 'block' : 'none';\n",
              "\n",
              "      async function convertToInteractive(key) {\n",
              "        const element = document.querySelector('#df-0f96a326-d3a7-4c0e-8ae6-4115fa8ce3d2');\n",
              "        const dataTable =\n",
              "          await google.colab.kernel.invokeFunction('convertToInteractive',\n",
              "                                                    [key], {});\n",
              "        if (!dataTable) return;\n",
              "\n",
              "        const docLinkHtml = 'Like what you see? Visit the ' +\n",
              "          '<a target=\"_blank\" href=https://colab.research.google.com/notebooks/data_table.ipynb>data table notebook</a>'\n",
              "          + ' to learn more about interactive tables.';\n",
              "        element.innerHTML = '';\n",
              "        dataTable['output_type'] = 'display_data';\n",
              "        await google.colab.output.renderOutput(dataTable, element);\n",
              "        const docLink = document.createElement('div');\n",
              "        docLink.innerHTML = docLinkHtml;\n",
              "        element.appendChild(docLink);\n",
              "      }\n",
              "    </script>\n",
              "  </div>\n",
              "\n",
              "\n",
              "<div id=\"df-48662118-4752-4c3d-a605-d8923e28b652\">\n",
              "  <button class=\"colab-df-quickchart\" onclick=\"quickchart('df-48662118-4752-4c3d-a605-d8923e28b652')\"\n",
              "            title=\"Suggest charts\"\n",
              "            style=\"display:none;\">\n",
              "\n",
              "<svg xmlns=\"http://www.w3.org/2000/svg\" height=\"24px\"viewBox=\"0 0 24 24\"\n",
              "     width=\"24px\">\n",
              "    <g>\n",
              "        <path d=\"M19 3H5c-1.1 0-2 .9-2 2v14c0 1.1.9 2 2 2h14c1.1 0 2-.9 2-2V5c0-1.1-.9-2-2-2zM9 17H7v-7h2v7zm4 0h-2V7h2v10zm4 0h-2v-4h2v4z\"/>\n",
              "    </g>\n",
              "</svg>\n",
              "  </button>\n",
              "\n",
              "<style>\n",
              "  .colab-df-quickchart {\n",
              "      --bg-color: #E8F0FE;\n",
              "      --fill-color: #1967D2;\n",
              "      --hover-bg-color: #E2EBFA;\n",
              "      --hover-fill-color: #174EA6;\n",
              "      --disabled-fill-color: #AAA;\n",
              "      --disabled-bg-color: #DDD;\n",
              "  }\n",
              "\n",
              "  [theme=dark] .colab-df-quickchart {\n",
              "      --bg-color: #3B4455;\n",
              "      --fill-color: #D2E3FC;\n",
              "      --hover-bg-color: #434B5C;\n",
              "      --hover-fill-color: #FFFFFF;\n",
              "      --disabled-bg-color: #3B4455;\n",
              "      --disabled-fill-color: #666;\n",
              "  }\n",
              "\n",
              "  .colab-df-quickchart {\n",
              "    background-color: var(--bg-color);\n",
              "    border: none;\n",
              "    border-radius: 50%;\n",
              "    cursor: pointer;\n",
              "    display: none;\n",
              "    fill: var(--fill-color);\n",
              "    height: 32px;\n",
              "    padding: 0;\n",
              "    width: 32px;\n",
              "  }\n",
              "\n",
              "  .colab-df-quickchart:hover {\n",
              "    background-color: var(--hover-bg-color);\n",
              "    box-shadow: 0 1px 2px rgba(60, 64, 67, 0.3), 0 1px 3px 1px rgba(60, 64, 67, 0.15);\n",
              "    fill: var(--button-hover-fill-color);\n",
              "  }\n",
              "\n",
              "  .colab-df-quickchart-complete:disabled,\n",
              "  .colab-df-quickchart-complete:disabled:hover {\n",
              "    background-color: var(--disabled-bg-color);\n",
              "    fill: var(--disabled-fill-color);\n",
              "    box-shadow: none;\n",
              "  }\n",
              "\n",
              "  .colab-df-spinner {\n",
              "    border: 2px solid var(--fill-color);\n",
              "    border-color: transparent;\n",
              "    border-bottom-color: var(--fill-color);\n",
              "    animation:\n",
              "      spin 1s steps(1) infinite;\n",
              "  }\n",
              "\n",
              "  @keyframes spin {\n",
              "    0% {\n",
              "      border-color: transparent;\n",
              "      border-bottom-color: var(--fill-color);\n",
              "      border-left-color: var(--fill-color);\n",
              "    }\n",
              "    20% {\n",
              "      border-color: transparent;\n",
              "      border-left-color: var(--fill-color);\n",
              "      border-top-color: var(--fill-color);\n",
              "    }\n",
              "    30% {\n",
              "      border-color: transparent;\n",
              "      border-left-color: var(--fill-color);\n",
              "      border-top-color: var(--fill-color);\n",
              "      border-right-color: var(--fill-color);\n",
              "    }\n",
              "    40% {\n",
              "      border-color: transparent;\n",
              "      border-right-color: var(--fill-color);\n",
              "      border-top-color: var(--fill-color);\n",
              "    }\n",
              "    60% {\n",
              "      border-color: transparent;\n",
              "      border-right-color: var(--fill-color);\n",
              "    }\n",
              "    80% {\n",
              "      border-color: transparent;\n",
              "      border-right-color: var(--fill-color);\n",
              "      border-bottom-color: var(--fill-color);\n",
              "    }\n",
              "    90% {\n",
              "      border-color: transparent;\n",
              "      border-bottom-color: var(--fill-color);\n",
              "    }\n",
              "  }\n",
              "</style>\n",
              "\n",
              "  <script>\n",
              "    async function quickchart(key) {\n",
              "      const quickchartButtonEl =\n",
              "        document.querySelector('#' + key + ' button');\n",
              "      quickchartButtonEl.disabled = true;  // To prevent multiple clicks.\n",
              "      quickchartButtonEl.classList.add('colab-df-spinner');\n",
              "      try {\n",
              "        const charts = await google.colab.kernel.invokeFunction(\n",
              "            'suggestCharts', [key], {});\n",
              "      } catch (error) {\n",
              "        console.error('Error during call to suggestCharts:', error);\n",
              "      }\n",
              "      quickchartButtonEl.classList.remove('colab-df-spinner');\n",
              "      quickchartButtonEl.classList.add('colab-df-quickchart-complete');\n",
              "    }\n",
              "    (() => {\n",
              "      let quickchartButtonEl =\n",
              "        document.querySelector('#df-48662118-4752-4c3d-a605-d8923e28b652 button');\n",
              "      quickchartButtonEl.style.display =\n",
              "        google.colab.kernel.accessAllowed ? 'block' : 'none';\n",
              "    })();\n",
              "  </script>\n",
              "</div>\n",
              "\n",
              "  <div id=\"id_e375b03b-a5fe-4a8f-8386-608c354cecd4\">\n",
              "    <style>\n",
              "      .colab-df-generate {\n",
              "        background-color: #E8F0FE;\n",
              "        border: none;\n",
              "        border-radius: 50%;\n",
              "        cursor: pointer;\n",
              "        display: none;\n",
              "        fill: #1967D2;\n",
              "        height: 32px;\n",
              "        padding: 0 0 0 0;\n",
              "        width: 32px;\n",
              "      }\n",
              "\n",
              "      .colab-df-generate:hover {\n",
              "        background-color: #E2EBFA;\n",
              "        box-shadow: 0px 1px 2px rgba(60, 64, 67, 0.3), 0px 1px 3px 1px rgba(60, 64, 67, 0.15);\n",
              "        fill: #174EA6;\n",
              "      }\n",
              "\n",
              "      [theme=dark] .colab-df-generate {\n",
              "        background-color: #3B4455;\n",
              "        fill: #D2E3FC;\n",
              "      }\n",
              "\n",
              "      [theme=dark] .colab-df-generate:hover {\n",
              "        background-color: #434B5C;\n",
              "        box-shadow: 0px 1px 3px 1px rgba(0, 0, 0, 0.15);\n",
              "        filter: drop-shadow(0px 1px 2px rgba(0, 0, 0, 0.3));\n",
              "        fill: #FFFFFF;\n",
              "      }\n",
              "    </style>\n",
              "    <button class=\"colab-df-generate\" onclick=\"generateWithVariable('variance_covariance_matrix')\"\n",
              "            title=\"Generate code using this dataframe.\"\n",
              "            style=\"display:none;\">\n",
              "\n",
              "  <svg xmlns=\"http://www.w3.org/2000/svg\" height=\"24px\"viewBox=\"0 0 24 24\"\n",
              "       width=\"24px\">\n",
              "    <path d=\"M7,19H8.4L18.45,9,17,7.55,7,17.6ZM5,21V16.75L18.45,3.32a2,2,0,0,1,2.83,0l1.4,1.43a1.91,1.91,0,0,1,.58,1.4,1.91,1.91,0,0,1-.58,1.4L9.25,21ZM18.45,9,17,7.55Zm-12,3A5.31,5.31,0,0,0,4.9,8.1,5.31,5.31,0,0,0,1,6.5,5.31,5.31,0,0,0,4.9,4.9,5.31,5.31,0,0,0,6.5,1,5.31,5.31,0,0,0,8.1,4.9,5.31,5.31,0,0,0,12,6.5,5.46,5.46,0,0,0,6.5,12Z\"/>\n",
              "  </svg>\n",
              "    </button>\n",
              "    <script>\n",
              "      (() => {\n",
              "      const buttonEl =\n",
              "        document.querySelector('#id_e375b03b-a5fe-4a8f-8386-608c354cecd4 button.colab-df-generate');\n",
              "      buttonEl.style.display =\n",
              "        google.colab.kernel.accessAllowed ? 'block' : 'none';\n",
              "\n",
              "      buttonEl.onclick = () => {\n",
              "        google.colab.notebook.generateWithVariable('variance_covariance_matrix');\n",
              "      }\n",
              "      })();\n",
              "    </script>\n",
              "  </div>\n",
              "\n",
              "    </div>\n",
              "  </div>\n"
            ],
            "application/vnd.google.colaboratory.intrinsic+json": {
              "type": "dataframe",
              "variable_name": "variance_covariance_matrix",
              "summary": "{\n  \"name\": \"variance_covariance_matrix\",\n  \"rows\": 5,\n  \"fields\": [\n    {\n      \"column\": \"Ticker\",\n      \"properties\": {\n        \"dtype\": \"string\",\n        \"num_unique_values\": 5,\n        \"samples\": [\n          \"msft\",\n          \"tsla\",\n          \"nflx\"\n        ],\n        \"semantic_type\": \"\",\n        \"description\": \"\"\n      }\n    },\n    {\n      \"column\": \"amd\",\n      \"properties\": {\n        \"dtype\": \"number\",\n        \"std\": 0.0003156454463244544,\n        \"min\": 0.00039203657763133996,\n        \"max\": 0.0011708825370533966,\n        \"num_unique_values\": 5,\n        \"samples\": [\n          0.00039203657763133996,\n          0.0006234073480360148,\n          0.0004496168863625689\n        ],\n        \"semantic_type\": \"\",\n        \"description\": \"\"\n      }\n    },\n    {\n      \"column\": \"msft\",\n      \"properties\": {\n        \"dtype\": \"number\",\n        \"std\": 3.471827731291077e-05,\n        \"min\": 0.00032372443763996355,\n        \"max\": 0.0004108032021736856,\n        \"num_unique_values\": 5,\n        \"samples\": [\n          0.0003791312171193971,\n          0.00040406395855317935,\n          0.00032372443763996355\n        ],\n        \"semantic_type\": \"\",\n        \"description\": \"\"\n      }\n    },\n    {\n      \"column\": \"nflx\",\n      \"properties\": {\n        \"dtype\": \"number\",\n        \"std\": 0.00012095256635306796,\n        \"min\": 0.00032372443763996355,\n        \"max\": 0.0006197352907065707,\n        \"num_unique_values\": 5,\n        \"samples\": [\n          0.00032372443763996355,\n          0.0003353053638662946,\n          0.0006197352907065707\n        ],\n        \"semantic_type\": \"\",\n        \"description\": \"\"\n      }\n    },\n    {\n      \"column\": \"nvda\",\n      \"properties\": {\n        \"dtype\": \"number\",\n        \"std\": 0.0003528434815344692,\n        \"min\": 0.0004108032021736856,\n        \"max\": 0.001287268730366141,\n        \"num_unique_values\": 5,\n        \"samples\": [\n          0.0004108032021736856,\n          0.0006024979725668131,\n          0.00048069829270215494\n        ],\n        \"semantic_type\": \"\",\n        \"description\": \"\"\n      }\n    },\n    {\n      \"column\": \"tsla\",\n      \"properties\": {\n        \"dtype\": \"number\",\n        \"std\": 0.00048321198516670526,\n        \"min\": 0.0003353053638662946,\n        \"max\": 0.0015354771125063208,\n        \"num_unique_values\": 5,\n        \"samples\": [\n          0.00040406395855317935,\n          0.0015354771125063208,\n          0.0003353053638662946\n        ],\n        \"semantic_type\": \"\",\n        \"description\": \"\"\n      }\n    }\n  ]\n}"
            }
          },
          "metadata": {},
          "execution_count": 6
        }
      ],
      "source": [
        "# Calculate the variance-covariance matrix of the asset returns\n",
        "variance_covariance_matrix = returns.cov() # YOUR CODE HERE#\n",
        "\n",
        "# Display the matrix\n",
        "variance_covariance_matrix"
      ]
    },
    {
      "cell_type": "markdown",
      "metadata": {
        "id": "Ds2uSRhgwqQy"
      },
      "source": [
        "### Market Weights\n",
        "\n",
        "**Market Weights** represent the proportion of the portfolio allocated to each asset. For \\(n\\) assets, the weights are denoted as:\n",
        "\n",
        "$$\n",
        "w = \\begin{bmatrix} w_1 \\\\ w_2 \\\\ \\vdots \\\\ w_n \\end{bmatrix}\n",
        "$$\n",
        "\n",
        "Where:\n",
        "- \\(w_i\\) is the weight of asset \\(i\\).\n",
        "- The sum of all weights is 1:\n",
        "  $$\n",
        "  \\sum_{i=1}^{n} w_i = 1\n",
        "  $$\n",
        "\n",
        "### Portfolio Expected Return:\n",
        "The portfolio's expected return \\(E(r_p)\\) is the weighted sum of asset returns:\n",
        "\n",
        "$$\n",
        "E(r_p) = \\sum_{i=1}^{n} w_i E(r_i)\n",
        "$$\n",
        "\n",
        "### Portfolio Variance:\n",
        "The portfolio variance \\( \\sigma_p^2 \\) is calculated as:\n",
        "\n",
        "$$\n",
        "\\sigma_p^2 = \\mathbf{w}^T \\Sigma \\mathbf{w}\n",
        "$$\n",
        "\n",
        "Where:\n",
        "- \\( \\Sigma \\) is the variance-covariance matrix.\n"
      ]
    },
    {
      "cell_type": "code",
      "execution_count": null,
      "metadata": {
        "id": "oKP2kSzDwpkQ",
        "outputId": "d2a21ea6-a2ef-4ea2-967d-f4b04845a351",
        "colab": {
          "base_uri": "https://localhost:8080/"
        }
      },
      "outputs": [
        {
          "output_type": "stream",
          "name": "stdout",
          "text": [
            "Weights based on market cap:  [0.10634038 0.03997818 0.39840601 0.03549464 0.41978078]\n"
          ]
        }
      ],
      "source": [
        "# Fetch stock tickers for each company\n",
        "tsla = yf.Ticker('TSLA')\n",
        "nflx = yf.Ticker('NFLX')\n",
        "nvda = yf.Ticker('NVDA')\n",
        "amd = yf.Ticker('AMD')\n",
        "msft = yf.Ticker('MSFT')\n",
        "\n",
        "# Retrieve market capitalization for each company, defaulting to 0 if not available\n",
        "market_capitalizations = {\n",
        "    'tsla': tsla.info.get('marketCap', 0),\n",
        "    'nflx': nflx.info.get('marketCap', 0),\n",
        "    'nvda': nvda.info.get('marketCap', 0),\n",
        "    'amd': amd.info.get('marketCap', 0),\n",
        "    'msft': msft.info.get('marketCap', 0)\n",
        "}\n",
        "\n",
        "# Calculate the sum of all market capitalizations\n",
        "total_market_cap = sum(market_capitalizations.values()) # YOUR CODE HERE#\n",
        "\n",
        "# Initialize an array for the market cap weights\n",
        "market_cap_weights = np.zeros(len(market_capitalizations))# YOUR CODE HERE#\n",
        "\n",
        "# Calculate weights based on the proportion of each company's market cap to the total\n",
        "market_cap_weights[0] = market_capitalizations['tsla'] / total_market_cap # YOUR CODE HERE#\n",
        "market_cap_weights[1] = market_capitalizations['nflx'] / total_market_cap # YOUR CODE HERE#\n",
        "market_cap_weights[2] = market_capitalizations['nvda'] / total_market_cap # YOUR CODE HERE#\n",
        "market_cap_weights[3] = market_capitalizations['amd'] / total_market_cap # YOUR CODE HERE#\n",
        "market_cap_weights[4] = market_capitalizations['msft'] / total_market_cap # YOUR CODE HERE#\n",
        "\n",
        "# Print the weights\n",
        "print(\"Weights based on market cap: \", market_cap_weights)\n"
      ]
    },
    {
      "cell_type": "markdown",
      "metadata": {
        "id": "ifK5SA3XzIvB"
      },
      "source": [
        "### Implied Equilibrium Excess Return\n",
        "\n",
        "The formula for the **Implied Equilibrium Excess Return** \\( \\pi \\) is given by:\n",
        "\n",
        "$$\n",
        "\\pi = A \\Sigma w\n",
        "$$\n"
      ]
    },
    {
      "cell_type": "code",
      "execution_count": null,
      "metadata": {
        "id": "8C3D6HYLzIZ3",
        "collapsed": true,
        "outputId": "f4d22ae0-7bfb-4be1-f3d9-b327418d4007",
        "colab": {
          "base_uri": "https://localhost:8080/"
        }
      },
      "outputs": [
        {
          "output_type": "execute_result",
          "data": {
            "text/plain": [
              "array([0.01805043, 0.01094867, 0.01377321, 0.01756098, 0.02609739])"
            ]
          },
          "metadata": {},
          "execution_count": 8
        }
      ],
      "source": [
        "# Calculate implied equilibrium excess returns using the Black-Litterman model formula\n",
        "implied_excess_returns = np.dot(np.dot(A,variance_covariance_matrix),market_cap_weights)#YOUR CODE HERE#\n",
        "\n",
        "# Display the result\n",
        "implied_excess_returns"
      ]
    },
    {
      "cell_type": "markdown",
      "metadata": {
        "id": "siQpvlIAzsj1"
      },
      "source": [
        "### Views and Link Matrix\n",
        "\n",
        "(Order: TSLA, NFLX, NVDA, AMD, MSFT)\n",
        "\n",
        "Let the views and link matrix \\( P \\) represent the following relationships between these stocks:\n",
        "\n",
        "$$\n",
        "P = \\begin{bmatrix}\n",
        "p_{11} & p_{12} & p_{13} & p_{14} & p_{15} \\\\\n",
        "p_{21} & p_{22} & p_{23} & p_{24} & p_{25} \\\\\n",
        "\\vdots & \\vdots & \\vdots & \\vdots & \\vdots \\\\\n",
        "p_{n1} & p_{n2} & p_{n3} & p_{n4} & p_{n5} \\\\\n",
        "\\end{bmatrix}\n",
        "$$\n",
        "\n",
        "Where:\n",
        "- $$ p_{ij} $$ represents the view or link between asset \\(i\\) and asset \\(j\\).\n",
        "- The assets are ordered as follows: TSLA, NFLX, NVDA, AMD, MSFT.\n"
      ]
    },
    {
      "cell_type": "markdown",
      "source": [
        "## **MY VIEWS**\n",
        "\n",
        "\n",
        "\n",
        "1.   MSFT outperforms TSLA by 2%\n",
        "2.   NVDA underperforms AMD by 1.5%\n",
        "3.   NFLX is expected to have a return of 5%"
      ],
      "metadata": {
        "id": "vJY6z40zUT_V"
      }
    },
    {
      "cell_type": "code",
      "execution_count": null,
      "metadata": {
        "id": "NQsr9Mg6v_TS",
        "outputId": "9b87f001-174d-4b87-b0c1-9aadd0ddbd64",
        "colab": {
          "base_uri": "https://localhost:8080/"
        }
      },
      "outputs": [
        {
          "output_type": "execute_result",
          "data": {
            "text/plain": [
              "array([[-1.,  0.,  0.,  0.,  1.],\n",
              "       [ 0.,  0., -1.,  1.,  0.],\n",
              "       [ 0.,  1.,  0.,  0.,  0.]])"
            ]
          },
          "metadata": {},
          "execution_count": 9
        }
      ],
      "source": [
        "# Define the view vector (Q), representing expected excess returns for certain assets\n",
        "view_expected_returns = [0.02, -0.015, 0.05] #YOUR CODE HERE#\n",
        "\n",
        "# Define the pick matrix (P), representing the assets involved in the views\n",
        "view_pick_matrix = np.zeros((3, 5))\n",
        "view_pick_matrix[0, 0] = -1\n",
        "view_pick_matrix[0, 4] = 1\n",
        "view_pick_matrix[1, 2] = -1\n",
        "view_pick_matrix[1, 3] = 1\n",
        "view_pick_matrix[2, 1] = 1\n",
        "\n",
        "view_pick_matrix\n"
      ]
    },
    {
      "cell_type": "markdown",
      "metadata": {
        "id": "_NawVdNa0uII"
      },
      "source": [
        "##Uncertainty About Views\n",
        "\n",
        "The formula for the uncertainty about views is given by:\n",
        "\n",
        "$$\n",
        "\\Omega = \\tau P \\Sigma P^T\n",
        "$$\n",
        "\n",
        "Where:\n",
        "- $$ \\Omega $$: The covariance matrix of the uncertainty about the views.\n",
        "- $$ \\tau $$: A scalar representing the degree of uncertainty in the prior market equilibrium estimate. Commonly set to 1.\n",
        "- $$ P $$: The view matrix, encoding the investor’s views on different assets.\n",
        "- $$ \\Sigma $$: The variance-covariance matrix of the asset returns.\n",
        "- $$ P^T $$: The transpose of the view matrix.\n"
      ]
    },
    {
      "cell_type": "code",
      "execution_count": null,
      "metadata": {
        "id": "0T2MRzfs00OI",
        "outputId": "d59657e0-e8e2-4947-8dc5-31ebccec609a",
        "colab": {
          "base_uri": "https://localhost:8080/"
        }
      },
      "outputs": [
        {
          "output_type": "execute_result",
          "data": {
            "text/plain": [
              "array([[ 1.45954495e-03, -1.00790915e-04,  1.20273809e-05],\n",
              "       [-1.00790915e-04,  9.45607436e-04,  8.70787645e-05],\n",
              "       [ 1.20273809e-05,  8.70787645e-05,  3.79131217e-04]])"
            ]
          },
          "metadata": {},
          "execution_count": 10
        }
      ],
      "source": [
        "# Calculate the uncertainty (Omega) in the views using the Black-Litterman model\n",
        "# scalar = 1\n",
        "view_uncertainty_matrix = np.dot(np.dot(view_pick_matrix,variance_covariance_matrix), np.transpose(view_pick_matrix))#YOUR CODE HERE#\n",
        "\n",
        "# Display the result\n",
        "view_uncertainty_matrix"
      ]
    },
    {
      "cell_type": "markdown",
      "metadata": {
        "id": "aQljpYLW2pVg"
      },
      "source": [
        "### Solving first term of Black-Litterman Formula\n",
        "\n",
        "The formula is:\n",
        "\n",
        "$$\n",
        "\\left[ (\\tau \\Sigma)^{-1} + P^T \\Omega^{-1} P \\right]^{-1}\n",
        "$$\n"
      ]
    },
    {
      "cell_type": "code",
      "execution_count": null,
      "metadata": {
        "id": "zUBeMVRZ2HON",
        "outputId": "ea848eac-9ed4-40fb-fd33-d24b6f053d08",
        "colab": {
          "base_uri": "https://localhost:8080/"
        }
      },
      "outputs": [
        {
          "output_type": "execute_result",
          "data": {
            "text/plain": [
              "array([[0.00082987, 0.00019602, 0.00028717, 0.00047116, 0.00055613],\n",
              "       [0.00019602, 0.00018957, 0.00016186, 0.0002054 , 0.00020203],\n",
              "       [0.00028717, 0.00016186, 0.00044932, 0.0003798 , 0.00023001],\n",
              "       [0.00047116, 0.0002054 , 0.0003798 , 0.00078308, 0.00036361],\n",
              "       [0.00055613, 0.00020203, 0.00023001, 0.00036361, 0.00101217]])"
            ]
          },
          "metadata": {},
          "execution_count": 11
        }
      ],
      "source": [
        "# Calculate the first term in the Black-Litterman formula\n",
        "inverse_adjusted_cov_matrix = np.linalg.inv(np.linalg.inv(variance_covariance_matrix) + np.dot(np.dot(np.transpose(view_pick_matrix), np.linalg.inv(view_uncertainty_matrix)), view_pick_matrix))\n",
        "\n",
        "# Display the result\n",
        "inverse_adjusted_cov_matrix"
      ]
    },
    {
      "cell_type": "markdown",
      "metadata": {
        "id": "fhN8wDlf3uKR"
      },
      "source": [
        "### Solving second term of Black-Litterman Formula\n",
        "\n",
        "The formula is:\n",
        "\n",
        "$$\n",
        "\\left[ (\\tau \\Sigma)^{-1} \\pi + P^T \\Omega^{-1} Q \\right]\n",
        "$$\n"
      ]
    },
    {
      "cell_type": "code",
      "execution_count": null,
      "metadata": {
        "id": "etkF4uR43kE-",
        "outputId": "85430cc0-1260-42a8-d72a-245d8580e125",
        "colab": {
          "base_uri": "https://localhost:8080/"
        }
      },
      "outputs": [
        {
          "output_type": "execute_result",
          "data": {
            "text/plain": [
              "array([ -7.52706815, 139.02224682,  39.20703355, -26.36816671,\n",
              "        23.09468588])"
            ]
          },
          "metadata": {},
          "execution_count": 12
        }
      ],
      "source": [
        "# Calculate the second term in the Black-Litterman formula\n",
        "adjusted_return_term = (\n",
        "    np.dot(np.linalg.inv(variance_covariance_matrix), implied_excess_returns) +\n",
        "    np.dot(np.dot(np.transpose(view_pick_matrix), np.linalg.inv(view_uncertainty_matrix)), view_expected_returns)\n",
        ")\n",
        "# Display the result\n",
        "adjusted_return_term"
      ]
    },
    {
      "cell_type": "markdown",
      "metadata": {
        "id": "KaNvL8zC5YBs"
      },
      "source": [
        "### Expected Returns Based on Black-Litterman Model\n",
        "\n",
        "The formula is:\n",
        "\n",
        "$$\n",
        "E(r) - r_f = \\left[ (\\tau \\Sigma)^{-1} + P^T \\Omega^{-1} P \\right]^{-1} \\left[ (\\tau \\Sigma)^{-1} \\pi + P^T \\Omega^{-1} Q \\right]\n",
        "$$\n"
      ]
    },
    {
      "cell_type": "code",
      "execution_count": null,
      "metadata": {
        "id": "VM9ls_yu4XGV",
        "outputId": "1435c5c4-447f-40a1-aa09-092e8597cee7",
        "colab": {
          "base_uri": "https://localhost:8080/"
        }
      },
      "outputs": [
        {
          "output_type": "execute_result",
          "data": {
            "text/plain": [
              "array([0.0326835 , 0.03047433, 0.03325477, 0.02764866, 0.04670698])"
            ]
          },
          "metadata": {},
          "execution_count": 13
        }
      ],
      "source": [
        "# Calculate the expected returns using the Black-Litterman model\n",
        "bl_expected_returns = np.dot(inverse_adjusted_cov_matrix, adjusted_return_term)\n",
        "\n",
        "# Display the result\n",
        "bl_expected_returns"
      ]
    },
    {
      "cell_type": "markdown",
      "metadata": {
        "id": "N933VUWk57SH"
      },
      "source": [
        "# Black Litterman vs Historical Average"
      ]
    },
    {
      "cell_type": "code",
      "execution_count": null,
      "metadata": {
        "id": "6l-M64fx56qu",
        "outputId": "4bd3987a-c0bd-4288-c259-1babe824cd21",
        "colab": {
          "base_uri": "https://localhost:8080/"
        }
      },
      "outputs": [
        {
          "output_type": "stream",
          "name": "stdout",
          "text": [
            "Historical Average Returns:  [0.00307194 0.00200833 0.00340467 0.00542239 0.00137226]\n",
            "Black-Litterman Expected Returns:  [0.0326835  0.03047433 0.03325477 0.02764866 0.04670698]\n"
          ]
        }
      ],
      "source": [
        "# Print the historical average returns\n",
        "print(\"Historical Average Returns: \", returns.mean().to_numpy())\n",
        "\n",
        "# Print the expected returns from the Black-Litterman model\n",
        "print(\"Black-Litterman Expected Returns: \", bl_expected_returns)"
      ]
    }
  ],
  "metadata": {
    "colab": {
      "provenance": [],
      "toc_visible": true
    },
    "kernelspec": {
      "display_name": "Python 3 (ipykernel)",
      "language": "python",
      "name": "python3"
    },
    "language_info": {
      "codemirror_mode": {
        "name": "ipython",
        "version": 3
      },
      "file_extension": ".py",
      "mimetype": "text/x-python",
      "name": "python",
      "nbconvert_exporter": "python",
      "pygments_lexer": "ipython3",
      "version": "3.10.9"
    },
    "vscode": {
      "interpreter": {
        "hash": "49cb93f377a7abe7414b7b0f21fb3017538004a126cf690fb524202736b7fb92"
      }
    }
  },
  "nbformat": 4,
  "nbformat_minor": 0
}